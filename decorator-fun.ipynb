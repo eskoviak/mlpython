{
 "cells": [
  {
   "cell_type": "markdown",
   "source": [
    "## From \n",
    "\n",
    "https://betterprogramming.pub/python-property-decorators-e370c39c7796"
   ],
   "metadata": {}
  },
  {
   "cell_type": "code",
   "execution_count": 4,
   "source": [
    "class Mass:\n",
    "    def __init__(self, kilos):\n",
    "        self.kilos = kilos\n",
    "        self.pounds = self.kilos * 2.204\n",
    "\n",
    "mass = Mass(200)\n",
    "\n",
    "print (f\"Mass( {mass.kilos}, {mass.pounds})\")\n",
    "\n",
    "mass.kilos = 250\n",
    "\n",
    "print (f\"Mass( {mass.kilos}, {mass.pounds})\")\n"
   ],
   "outputs": [
    {
     "output_type": "stream",
     "name": "stdout",
     "text": [
      "Mass( 200, 440.8)\n",
      "Mass( 250, 440.8)\n"
     ]
    }
   ],
   "metadata": {}
  },
  {
   "cell_type": "markdown",
   "source": [
    "Notice that the kilos updated, but not the pounds, since the property is only set during init"
   ],
   "metadata": {}
  },
  {
   "cell_type": "code",
   "execution_count": 7,
   "source": [
    "class Mass:\n",
    "    def __init__(self, kilos):\n",
    "        self.kilos = kilos\n",
    "    \n",
    "    def pounds(self):\n",
    "        return self.kilos * 2.204\n",
    "\n",
    "mass = Mass(200)\n",
    "\n",
    "print (f\"Mass( {mass.kilos}, {mass.pounds()})\")\n",
    "\n",
    "mass.kilos = 250\n",
    "\n",
    "print (f\"Mass( {mass.kilos}, {mass.pounds()})\")"
   ],
   "outputs": [
    {
     "output_type": "stream",
     "name": "stdout",
     "text": [
      "Mass( 200, 440.8)\n",
      "Mass( 250, 551.0)\n"
     ]
    }
   ],
   "metadata": {}
  },
  {
   "cell_type": "markdown",
   "source": [
    "but we have to refer the internal pounds function.  So if this had been used somewhere else, it may have broken something."
   ],
   "metadata": {}
  },
  {
   "cell_type": "code",
   "execution_count": 9,
   "source": [
    "class Mass:\n",
    "    def __init__(self, kilos):\n",
    "        self.kilos = kilos\n",
    "    \n",
    "    @property\n",
    "    def pounds(self):\n",
    "        return self.kilos * 2.204\n",
    "\n",
    "mass = Mass(200)\n",
    "\n",
    "print (f\"Mass( {mass.kilos}, {mass.pounds})\")\n",
    "\n",
    "mass.kilos = 250\n",
    "\n",
    "print (f\"Mass( {mass.kilos}, {mass.pounds})\")"
   ],
   "outputs": [
    {
     "output_type": "stream",
     "name": "stdout",
     "text": [
      "Mass( 200, 440.8)\n",
      "Mass( 250, 551.0)\n"
     ]
    }
   ],
   "metadata": {}
  },
  {
   "cell_type": "markdown",
   "source": [
    "now it works as before, with just the addition of the @property decorator"
   ],
   "metadata": {}
  }
 ],
 "metadata": {
  "orig_nbformat": 4,
  "language_info": {
   "name": "python",
   "version": "3.9.5",
   "mimetype": "text/x-python",
   "codemirror_mode": {
    "name": "ipython",
    "version": 3
   },
   "pygments_lexer": "ipython3",
   "nbconvert_exporter": "python",
   "file_extension": ".py"
  },
  "kernelspec": {
   "name": "python3",
   "display_name": "Python 3.9.5 64-bit ('vpython-macos': venv)"
  },
  "interpreter": {
   "hash": "4813e4d4eea24e7bff446c076ec41dc5d844d58b0d6a1d3905ebf720c5ec0f77"
  }
 },
 "nbformat": 4,
 "nbformat_minor": 2
}