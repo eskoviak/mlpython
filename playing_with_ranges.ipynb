{
 "cells": [
  {
   "cell_type": "code",
   "execution_count": 1,
   "id": "collected-officer",
   "metadata": {},
   "outputs": [],
   "source": [
    "import numpy as np"
   ]
  },
  {
   "cell_type": "markdown",
   "id": "perceived-penalty",
   "metadata": {},
   "source": [
    "The desired output, given 3x(4,6,10) is an ndarray [4,6,10,4,6,10,4,6,10]"
   ]
  },
  {
   "cell_type": "code",
   "execution_count": 79,
   "id": "worth-manner",
   "metadata": {},
   "outputs": [],
   "source": [
    "indata = '1x(1,2)'\n",
    "indata.replace('*', 'x')\n",
    "mult, set = indata.split('x')"
   ]
  },
  {
   "cell_type": "code",
   "execution_count": 80,
   "id": "frequent-tuesday",
   "metadata": {},
   "outputs": [
    {
     "name": "stdout",
     "output_type": "stream",
     "text": [
      "1 (1,2)\n"
     ]
    }
   ],
   "source": [
    "print(mult, set)"
   ]
  },
  {
   "cell_type": "code",
   "execution_count": 81,
   "id": "electrical-production",
   "metadata": {},
   "outputs": [
    {
     "name": "stdout",
     "output_type": "stream",
     "text": [
      "[1 2]\n",
      "195\n"
     ]
    }
   ],
   "source": [
    "res = list(eval(set))\n",
    "#cadence = np.array(res*int(mult))\n",
    "cadence = np.tile(res, int(mult))\n",
    "weight = np.array([65])\n",
    "print(cadence)\n",
    "volume = cadence*weight\n",
    "print(volume.sum())"
   ]
  },
  {
   "cell_type": "markdown",
   "id": "circular-response",
   "metadata": {},
   "source": [
    "for the notation nx(10-->1), expect  ndarray [10,9,8,7,6,5,4,3,2,1] n times"
   ]
  },
  {
   "cell_type": "code",
   "execution_count": 71,
   "id": "laden-mechanics",
   "metadata": {},
   "outputs": [
    {
     "name": "stdout",
     "output_type": "stream",
     "text": [
      "2 (10-->1)\n",
      "[10  9  8  7  6  5  4  3  2  1 10  9  8  7  6  5  4  3  2  1]\n"
     ]
    }
   ],
   "source": [
    "indata = '2x(10-->1)'\n",
    "indata.replace('*', 'x')\n",
    "if indata.find('x') > -1:\n",
    "    mult, set = indata.split('x')\n",
    "else:\n",
    "    mult = 1\n",
    "    set = indata\n",
    "print(mult, set)\n",
    "start,stop = set.split('-->')\n",
    "start = int(start.replace('(','').replace(')',''))\n",
    "stop = int(stop.replace('(','').replace(')',''))\n",
    "if stop < start:\n",
    "    step = -1\n",
    "    stop -= 1\n",
    "else:\n",
    "    step = 1\n",
    "    stop += 1\n",
    "#print(start,stop,step)\n",
    "cadence = np.tile(np.arange(start, stop, step), int(mult))\n",
    "print(cadence)\n"
   ]
  },
  {
   "cell_type": "markdown",
   "id": "variable-tract",
   "metadata": {},
   "source": [
    "Finally, handle nx(o<-->p), bidirectional ladder:\n",
    "\n",
    "e.g. 2x(1<-->3) yields [1,2,3,2,1,1,2,3,2,1]"
   ]
  },
  {
   "cell_type": "code",
   "execution_count": null,
   "id": "focused-particle",
   "metadata": {},
   "outputs": [],
   "source": []
  }
 ],
 "metadata": {
  "kernelspec": {
   "display_name": "Python 3",
   "language": "python",
   "name": "python3"
  },
  "language_info": {
   "codemirror_mode": {
    "name": "ipython",
    "version": 3
   },
   "file_extension": ".py",
   "mimetype": "text/x-python",
   "name": "python",
   "nbconvert_exporter": "python",
   "pygments_lexer": "ipython3",
   "version": "3.8.6"
  }
 },
 "nbformat": 4,
 "nbformat_minor": 5
}
