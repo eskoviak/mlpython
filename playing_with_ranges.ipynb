{
 "cells": [
  {
   "cell_type": "code",
   "execution_count": 1,
   "source": [
    "import numpy as np"
   ],
   "outputs": [],
   "metadata": {}
  },
  {
   "cell_type": "markdown",
   "source": [
    "The desired output, given 3x(4,6,10) is an ndarray [4,6,10,4,6,10,4,6,10]"
   ],
   "metadata": {}
  },
  {
   "cell_type": "code",
   "execution_count": 2,
   "source": [
    "indata = '1x(1,2)'\n",
    "indata.replace('*', 'x')\n",
    "mult, set = indata.split('x')"
   ],
   "outputs": [],
   "metadata": {}
  },
  {
   "cell_type": "code",
   "execution_count": 3,
   "source": [
    "print(mult, set)"
   ],
   "outputs": [
    {
     "output_type": "stream",
     "name": "stdout",
     "text": [
      "1 (1,2)\n"
     ]
    }
   ],
   "metadata": {}
  },
  {
   "cell_type": "code",
   "execution_count": 5,
   "source": [
    "res = list(eval(set))\n",
    "#cadence = np.array(res*int(mult))\n",
    "cadence = np.tile(res, int(mult))\n",
    "weight = np.array([65])\n",
    "print(cadence)\n",
    "volume = cadence*weight\n",
    "print(volume.sum())"
   ],
   "outputs": [
    {
     "output_type": "stream",
     "name": "stdout",
     "text": [
      "[1 2]\n",
      "195\n"
     ]
    }
   ],
   "metadata": {}
  },
  {
   "cell_type": "markdown",
   "source": [
    "for the notation nx(10-->1), expect  ndarray [10,9,8,7,6,5,4,3,2,1] n times"
   ],
   "metadata": {}
  },
  {
   "cell_type": "code",
   "execution_count": 6,
   "source": [
    "indata = '2x(10-->1)'\n",
    "indata.replace('*', 'x')\n",
    "if indata.find('x') > -1:\n",
    "    mult, set = indata.split('x')\n",
    "else:\n",
    "    mult = 1\n",
    "    set = indata\n",
    "print(mult, set)\n",
    "start,stop = set.split('-->')\n",
    "start = int(start.replace('(','').replace(')',''))\n",
    "stop = int(stop.replace('(','').replace(')',''))\n",
    "if stop < start:\n",
    "    step = -1\n",
    "    stop -= 1\n",
    "else:\n",
    "    step = 1\n",
    "    stop += 1\n",
    "#print(start,stop,step)\n",
    "cadence = np.tile(np.arange(start, stop, step), int(mult))\n",
    "print(cadence)\n"
   ],
   "outputs": [
    {
     "output_type": "stream",
     "name": "stdout",
     "text": [
      "2 (10-->1)\n",
      "[10  9  8  7  6  5  4  3  2  1 10  9  8  7  6  5  4  3  2  1]\n"
     ]
    }
   ],
   "metadata": {}
  },
  {
   "cell_type": "markdown",
   "source": [
    "Finally, handle nx(o<-->p), bidirectional ladder:\n",
    "\n",
    "e.g. 2x(1<-->3) yields [1,2,3,2,1,1,2,3,2,1]"
   ],
   "metadata": {}
  },
  {
   "cell_type": "code",
   "execution_count": null,
   "source": [],
   "outputs": [],
   "metadata": {}
  }
 ],
 "metadata": {
  "kernelspec": {
   "name": "python3",
   "display_name": "Python 3.9.5 64-bit ('vpython-macos': venv)"
  },
  "language_info": {
   "codemirror_mode": {
    "name": "ipython",
    "version": 3
   },
   "file_extension": ".py",
   "mimetype": "text/x-python",
   "name": "python",
   "nbconvert_exporter": "python",
   "pygments_lexer": "ipython3",
   "version": "3.9.5"
  },
  "interpreter": {
   "hash": "4813e4d4eea24e7bff446c076ec41dc5d844d58b0d6a1d3905ebf720c5ec0f77"
  }
 },
 "nbformat": 4,
 "nbformat_minor": 5
}